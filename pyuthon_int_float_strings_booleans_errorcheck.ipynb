{
  "nbformat": 4,
  "nbformat_minor": 0,
  "metadata": {
    "colab": {
      "provenance": [],
      "authorship_tag": "ABX9TyPaPIihrLUse8LCZG7Lgc6Z",
      "include_colab_link": true
    },
    "kernelspec": {
      "name": "python3",
      "display_name": "Python 3"
    },
    "language_info": {
      "name": "python"
    }
  },
  "cells": [
    {
      "cell_type": "markdown",
      "metadata": {
        "id": "view-in-github",
        "colab_type": "text"
      },
      "source": [
        "<a href=\"https://colab.research.google.com/github/YiFurusho/Fashion_Products_Dashboard/blob/main/pyuthon_int_float_strings_booleans_errorcheck.ipynb\" target=\"_parent\"><img src=\"https://colab.research.google.com/assets/colab-badge.svg\" alt=\"Open In Colab\"/></a>"
      ]
    },
    {
      "cell_type": "code",
      "execution_count": null,
      "metadata": {
        "id": "MytMUK5Rzq4Z"
      },
      "outputs": [],
      "source": [
        "```python\n",
        "# This is a comment\n",
        "print('This is code')\n",
        "```"
      ]
    },
    {
      "cell_type": "markdown",
      "source": [
        "### Integers, Floats, Strings, Booleans"
      ],
      "metadata": {
        "id": "Ncm6tXdq3mG-"
      }
    },
    {
      "cell_type": "code",
      "source": [
        "integer_example = 10\n",
        "float_example = 10.5\n",
        "string_example = 'Hello, Python'\n",
        "boolean_example = True\n",
        "\n",
        "print(integer_example, float_example, string_example, boolean_example)\n"
      ],
      "metadata": {
        "colab": {
          "base_uri": "https://localhost:8080/"
        },
        "id": "UXbBRfKj3WYD",
        "outputId": "94fca91b-a912-4704-ddb9-c415bab7a889"
      },
      "execution_count": 2,
      "outputs": [
        {
          "output_type": "stream",
          "name": "stdout",
          "text": [
            "10 10.5 Hello, Python True\n"
          ]
        }
      ]
    },
    {
      "cell_type": "markdown",
      "source": [
        "Common Error Types"
      ],
      "metadata": {
        "id": "stI0TyjP9f8N"
      }
    },
    {
      "cell_type": "code",
      "source": [
        "# Examples of Errors and Fixes Due to Data Type Operations\n",
        "\n",
        "# Original error: Adding an integer and a string - Results in TypeError\n",
        "# Fix: Convert the integer to a string before concatenation\n",
        "result_fixed = str(3) + ' apples'\n",
        "print(\"Fixed:\", result_fixed)  # Output: '3 apples'"
      ],
      "metadata": {
        "id": "HoXhjuac38et"
      },
      "execution_count": null,
      "outputs": []
    },
    {
      "cell_type": "code",
      "source": [
        "# Original error: Dividing a number by a string - Results in TypeError\n",
        "# Fix: Ensure both operands are numbers (e.g., convert the string to a number if possible)\n",
        "result_fixed = 10 / 5  # Assuming 'five' was meant to be 5\n",
        "print(\"Fixed:\", result_fixed)  # Output: 2.0"
      ],
      "metadata": {
        "id": "ATE-V1n74EOt"
      },
      "execution_count": null,
      "outputs": []
    },
    {
      "cell_type": "code",
      "source": [
        "# Original error: Using an undefined variable - Results in NameError\n",
        "# Fix: Define the variable before using it\n",
        "number = 7  # Define 'number'\n",
        "result_fixed = number * 2\n",
        "print(\"Fixed:\", result_fixed)  # Output: 14"
      ],
      "metadata": {
        "id": "eO9xrRJh4LYC"
      },
      "execution_count": null,
      "outputs": []
    },
    {
      "cell_type": "markdown",
      "source": [
        "## String Methods and Beginner Friendly Materials"
      ],
      "metadata": {
        "id": "Ztix889z4ol8"
      }
    },
    {
      "cell_type": "code",
      "source": [
        "sample_string = 'Data Analysis'\n",
        "\n",
        "# String length\n",
        "print(len(sample_string))\n",
        "\n",
        "# Convert to uppercase\n",
        "print(sample_string.upper())\n",
        "\n",
        "# Check if string contains a word\n",
        "print('Data' in sample_string)"
      ],
      "metadata": {
        "id": "zmUZp7V84v6o"
      },
      "execution_count": null,
      "outputs": []
    },
    {
      "cell_type": "code",
      "source": [
        "'''BASIC SLICING'''\n",
        "\n",
        "text = \"Python Programming\"\n",
        "sliced = text[0:6]\n",
        "print(sliced)  # Output: Python"
      ],
      "metadata": {
        "id": "QIB_GGH74xHz"
      },
      "execution_count": null,
      "outputs": []
    },
    {
      "cell_type": "code",
      "source": [
        "'''OMMITING START AND STOP'''\n",
        "\n",
        "text = \"Python Programming\"\n",
        "print(text[:6])  # Output: Python\n",
        "print(text[7:])  # Output: Programming"
      ],
      "metadata": {
        "id": "LD8r5okA41UO"
      },
      "execution_count": null,
      "outputs": []
    },
    {
      "cell_type": "code",
      "source": [
        "'''NEGATIVE SLICING'''\n",
        "\n",
        "text = \"Python Programming\"\n",
        "print(text[-12:-7])  # Output: Progr"
      ],
      "metadata": {
        "id": "hlJhlvU743Ji"
      },
      "execution_count": null,
      "outputs": []
    },
    {
      "cell_type": "code",
      "source": [
        "'''USING STEP'''\n",
        "#The step value can be used to skip characters in the sliced string.\n",
        "\n",
        "text = \"Python Programming\"\n",
        "print(text[0:6:2])  # Output: Pto"
      ],
      "metadata": {
        "id": "RMsD68Qf5BUo"
      },
      "execution_count": null,
      "outputs": []
    },
    {
      "cell_type": "code",
      "source": [
        "'''REVERSE STRING'''\n",
        "#A common use of slicing is to reverse a string.\n",
        "\n",
        "text = \"Python\"\n",
        "print(text[::-1])  # Output: nohtyP"
      ],
      "metadata": {
        "id": "NhYuuGkl5HgM"
      },
      "execution_count": null,
      "outputs": []
    },
    {
      "cell_type": "markdown",
      "source": [
        "## String Methods and Beginner Friendly Materials"
      ],
      "metadata": {
        "id": "QWjahFxI9wQX"
      }
    },
    {
      "cell_type": "code",
      "source": [
        "sample_string = 'Data Analysis'\n",
        "\n",
        "# String length\n",
        "print(len(sample_string))\n",
        "\n",
        "# Convert to uppercase\n",
        "print(sample_string.upper())\n",
        "\n",
        "# Check if string contains a word\n",
        "print('Data' in sample_string)"
      ],
      "metadata": {
        "id": "IB9Uo5oV9rgP"
      },
      "execution_count": null,
      "outputs": []
    },
    {
      "cell_type": "code",
      "source": [
        "'''BASIC SLICING'''\n",
        "\n",
        "text = \"Python Programming\"\n",
        "sliced = text[0:6]\n",
        "print(sliced)  # Output: Python"
      ],
      "metadata": {
        "id": "encSnf24902H"
      },
      "execution_count": null,
      "outputs": []
    },
    {
      "cell_type": "code",
      "source": [
        "'''OMMITING START AND STOP'''\n",
        "\n",
        "text = \"Python Programming\"\n",
        "print(text[:6])  # Output: Python\n",
        "print(text[7:])  # Output: Programming"
      ],
      "metadata": {
        "id": "jD5dsGIN96Vl"
      },
      "execution_count": null,
      "outputs": []
    },
    {
      "cell_type": "code",
      "source": [
        "'''NEGATIVE SLICING'''\n",
        "\n",
        "text = \"Python Programming\"\n",
        "print(text[-12:-7])  # Output: Progr"
      ],
      "metadata": {
        "id": "V_lbcWdH9_Ad"
      },
      "execution_count": null,
      "outputs": []
    },
    {
      "cell_type": "code",
      "source": [
        "'''USING STEP'''\n",
        "#The step value can be used to skip characters in the sliced string.\n",
        "\n",
        "text = \"Python Programming\"\n",
        "print(text[0:6:2])  # Output: Pto"
      ],
      "metadata": {
        "id": "28aRt4DC-ADj"
      },
      "execution_count": null,
      "outputs": []
    },
    {
      "cell_type": "code",
      "source": [
        "'''REVERSE STRING'''\n",
        "#A common use of slicing is to reverse a string.\n",
        "\n",
        "text = \"Python\"\n",
        "print(text[::-1])  # Output: nohtyP"
      ],
      "metadata": {
        "id": "kbP6nkPV-LgF"
      },
      "execution_count": null,
      "outputs": []
    },
    {
      "cell_type": "code",
      "source": [],
      "metadata": {
        "id": "U9-Zmg7F-O4H"
      },
      "execution_count": null,
      "outputs": []
    }
  ]
}